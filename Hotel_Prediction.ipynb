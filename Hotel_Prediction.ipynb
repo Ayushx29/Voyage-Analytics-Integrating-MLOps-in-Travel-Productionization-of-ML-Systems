{
  "nbformat": 4,
  "nbformat_minor": 0,
  "metadata": {
    "colab": {
      "provenance": [],
      "authorship_tag": "ABX9TyNJIrZV7IeNVZhkh7z054B1",
      "include_colab_link": true
    },
    "kernelspec": {
      "name": "python3",
      "display_name": "Python 3"
    },
    "language_info": {
      "name": "python"
    }
  },
  "cells": [
    {
      "cell_type": "markdown",
      "metadata": {
        "id": "view-in-github",
        "colab_type": "text"
      },
      "source": [
        "<a href=\"https://colab.research.google.com/github/Ayushx29/Voyage-Analytics-Integrating-MLOps-in-Travel-Productionization-of-ML-Systems/blob/main/Hotel_Prediction.ipynb\" target=\"_parent\"><img src=\"https://colab.research.google.com/assets/colab-badge.svg\" alt=\"Open In Colab\"/></a>"
      ]
    },
    {
      "cell_type": "markdown",
      "source": [
        "# **Project Name**    - Voyage Analytics: Integrating MLOps in Travel Productionization of ML Systems"
      ],
      "metadata": {
        "id": "3c7JY59DBXNk"
      }
    },
    {
      "cell_type": "markdown",
      "source": [
        "\n",
        "*  **Project Type**    - Regression/Classification\n",
        "\n",
        "*   **Contribution**    - Individual\n",
        "\n",
        "*    **Name -** Ayush Bhagat\n",
        "\n",
        "\n",
        "\n"
      ],
      "metadata": {
        "id": "73kAzyh6Bs6F"
      }
    },
    {
      "cell_type": "markdown",
      "source": [
        "# **Project Summary -**"
      ],
      "metadata": {
        "id": "uXXd0-8ACl2H"
      }
    },
    {
      "cell_type": "markdown",
      "source": [
        "This project is an end-to-end machine learning application that predicts hotel prices based on user and travel attributes. It uses Random Forest models for both regression and classification tasks, and is deployed as a Flask web application with a styled HTML form interface and Ngrok integration for easy public access."
      ],
      "metadata": {
        "id": "pyQPE3y3Cwcu"
      }
    },
    {
      "cell_type": "markdown",
      "source": [
        "# **GitHub Link -**"
      ],
      "metadata": {
        "id": "x-MhZ-X7DBOe"
      }
    },
    {
      "cell_type": "markdown",
      "source": [
        "https://github.com/Ayushx29/Voyage-Analytics-Integrating-MLOps-in-Travel-Productionization-of-ML-Systems"
      ],
      "metadata": {
        "id": "bOglRow7DBK8"
      }
    },
    {
      "cell_type": "markdown",
      "source": [
        "# **Problem Statement**\n"
      ],
      "metadata": {
        "id": "lpjjPuIJDBIi"
      }
    },
    {
      "cell_type": "markdown",
      "source": [
        "This capstone project explores the intersection of data analytics and machine learning in the travel and tourism industry by leveraging datasets on users, flights, and hotels. The goal is to develop predictive models for flight price forecasting, hotel recommendations, and gender classification to enhance travel personalization and decision-making. Additionally, the project incorporates MLOps techniques such as model deployment, automation, and scalability using Flask, Docker, Kubernetes, Jenkins, Apache Airflow, and MLFlow, ensuring a seamless and efficient machine learning pipeline.\n",
        "\n"
      ],
      "metadata": {
        "id": "wlLZHYNYDBF3"
      }
    },
    {
      "cell_type": "markdown",
      "source": [
        "# ***Let's Begin !***"
      ],
      "metadata": {
        "id": "s-ytHEPcDBC4"
      }
    },
    {
      "cell_type": "code",
      "source": [
        "import numpy as np\n",
        "import pandas as pd\n",
        "import seaborn as sns\n",
        "import random\n",
        "import matplotlib.pyplot as plt\n",
        "import warnings\n",
        "warnings.filterwarnings(\"ignore\")\n",
        "from sklearn.preprocessing import StandardScaler\n",
        "from sklearn.model_selection import train_test_split\n",
        "from sklearn.preprocessing import LabelEncoder\n",
        "from sklearn.linear_model import LogisticRegression\n",
        "from sklearn.metrics import mean_absolute_error, mean_squared_error, r2_score\n",
        "from sklearn.decomposition import PCA\n",
        "from sklearn.ensemble import RandomForestClassifier, GradientBoostingClassifier\n",
        "from sklearn.metrics import confusion_matrix\n",
        "from sklearn.metrics import accuracy_score,classification_report, precision_recall_curve\n",
        "from sklearn.tree import DecisionTreeClassifier\n",
        "from sklearn.metrics import accuracy_score"
      ],
      "metadata": {
        "id": "lgh8zKf-C7T9"
      },
      "execution_count": 1,
      "outputs": []
    },
    {
      "cell_type": "code",
      "source": [],
      "metadata": {
        "id": "-I16BmbwMBXz"
      },
      "execution_count": null,
      "outputs": []
    }
  ]
}