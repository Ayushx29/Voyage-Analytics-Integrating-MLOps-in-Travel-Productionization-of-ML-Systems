{
  "nbformat": 4,
  "nbformat_minor": 0,
  "metadata": {
    "colab": {
      "provenance": [],
      "authorship_tag": "ABX9TyOCCC1LH1h2+2trRfP8X9vu",
      "include_colab_link": true
    },
    "kernelspec": {
      "name": "python3",
      "display_name": "Python 3"
    },
    "language_info": {
      "name": "python"
    }
  },
  "cells": [
    {
      "cell_type": "markdown",
      "metadata": {
        "id": "view-in-github",
        "colab_type": "text"
      },
      "source": [
        "<a href=\"https://colab.research.google.com/github/Ayushx29/Voyage-Analytics-Integrating-MLOps-in-Travel-Productionization-of-ML-Systems/blob/main/Hotel_Prediction.ipynb\" target=\"_parent\"><img src=\"https://colab.research.google.com/assets/colab-badge.svg\" alt=\"Open In Colab\"/></a>"
      ]
    },
    {
      "cell_type": "markdown",
      "source": [
        "# **Project Name**    - Voyage Analytics: Integrating MLOps in Travel Productionization of ML Systems"
      ],
      "metadata": {
        "id": "3c7JY59DBXNk"
      }
    },
    {
      "cell_type": "markdown",
      "source": [
        "\n",
        "*  **Project Type**    - Regression/Classification\n",
        "\n",
        "*   **Contribution**    - Individual\n",
        "\n",
        "*    **Name -** Ayush Bhagat\n",
        "\n",
        "\n",
        "\n"
      ],
      "metadata": {
        "id": "73kAzyh6Bs6F"
      }
    },
    {
      "cell_type": "markdown",
      "source": [
        "# **Project Summary -**"
      ],
      "metadata": {
        "id": "uXXd0-8ACl2H"
      }
    },
    {
      "cell_type": "markdown",
      "source": [
        "This project is an end-to-end machine learning application that predicts hotel prices based on user and travel attributes. It uses Random Forest models for both regression and classification tasks, and is deployed as a Flask web application with a styled HTML form interface and Ngrok integration for easy public access."
      ],
      "metadata": {
        "id": "pyQPE3y3Cwcu"
      }
    },
    {
      "cell_type": "markdown",
      "source": [
        "# **GitHub Link -**"
      ],
      "metadata": {
        "id": "x-MhZ-X7DBOe"
      }
    },
    {
      "cell_type": "markdown",
      "source": [
        "https://github.com/Ayushx29/Voyage-Analytics-Integrating-MLOps-in-Travel-Productionization-of-ML-Systems"
      ],
      "metadata": {
        "id": "bOglRow7DBK8"
      }
    },
    {
      "cell_type": "markdown",
      "source": [
        "# **Problem Statement**\n"
      ],
      "metadata": {
        "id": "lpjjPuIJDBIi"
      }
    },
    {
      "cell_type": "markdown",
      "source": [
        "This capstone project explores the intersection of data analytics and machine learning in the travel and tourism industry by leveraging datasets on users, flights, and hotels. The goal is to develop predictive models for flight price forecasting, hotel recommendations, and gender classification to enhance travel personalization and decision-making. Additionally, the project incorporates MLOps techniques such as model deployment, automation, and scalability using Flask, Docker, Kubernetes, Jenkins, Apache Airflow, and MLFlow, ensuring a seamless and efficient machine learning pipeline.\n",
        "\n"
      ],
      "metadata": {
        "id": "wlLZHYNYDBF3"
      }
    },
    {
      "cell_type": "markdown",
      "source": [
        "# ***Let's Begin !***"
      ],
      "metadata": {
        "id": "s-ytHEPcDBC4"
      }
    },
    {
      "cell_type": "code",
      "source": [
        "import numpy as np\n",
        "import pandas as pd\n",
        "import seaborn as sns\n",
        "import random\n",
        "import matplotlib.pyplot as plt\n",
        "import warnings\n",
        "warnings.filterwarnings(\"ignore\")\n",
        "from sklearn.preprocessing import StandardScaler\n",
        "from sklearn.model_selection import train_test_split\n",
        "from sklearn.preprocessing import LabelEncoder\n",
        "from sklearn.linear_model import LogisticRegression\n",
        "from sklearn.metrics import mean_absolute_error, mean_squared_error, r2_score\n",
        "from sklearn.decomposition import PCA\n",
        "from sklearn.ensemble import RandomForestClassifier, GradientBoostingClassifier , RandomForestRegressor\n",
        "from sklearn.metrics import confusion_matrix\n",
        "from sklearn.metrics import accuracy_score,classification_report, precision_recall_curve\n",
        "from sklearn.tree import DecisionTreeClassifier\n",
        "from sklearn.metrics import accuracy_score"
      ],
      "metadata": {
        "id": "lgh8zKf-C7T9"
      },
      "execution_count": 43,
      "outputs": []
    },
    {
      "cell_type": "code",
      "source": [
        "from google.colab import drive\n",
        "drive.mount('/content/drive')"
      ],
      "metadata": {
        "colab": {
          "base_uri": "https://localhost:8080/"
        },
        "id": "-I16BmbwMBXz",
        "outputId": "53728e31-610b-4cd5-e9bc-ce351ae35fb1"
      },
      "execution_count": 2,
      "outputs": [
        {
          "output_type": "stream",
          "name": "stdout",
          "text": [
            "Mounted at /content/drive\n"
          ]
        }
      ]
    },
    {
      "cell_type": "code",
      "source": [
        "# Load the hotel data from the CSV file\n",
        "hotel_path = \"/content/drive/MyDrive/AlmaBetter Masters Projects/Voyage Analytics/travel_capstone/hotels.csv\"\n",
        "hotel = pd.read_csv(hotel_path)"
      ],
      "metadata": {
        "id": "OmYsLumaNJGC"
      },
      "execution_count": 44,
      "outputs": []
    },
    {
      "cell_type": "code",
      "source": [
        "hotel.head(10)"
      ],
      "metadata": {
        "colab": {
          "base_uri": "https://localhost:8080/",
          "height": 363
        },
        "id": "PR0KC8JSNfOY",
        "outputId": "6b29d971-434e-4a3a-d3fd-c2e7f59e9beb"
      },
      "execution_count": 45,
      "outputs": [
        {
          "output_type": "execute_result",
          "data": {
            "text/plain": [
              "   travelCode  userCode      name               place  days   price    total  \\\n",
              "0           0         0   Hotel A  Florianopolis (SC)     4  313.02  1252.08   \n",
              "1           2         0   Hotel K       Salvador (BH)     2  263.41   526.82   \n",
              "2           7         0   Hotel K       Salvador (BH)     3  263.41   790.23   \n",
              "3          11         0   Hotel K       Salvador (BH)     4  263.41  1053.64   \n",
              "4          13         0   Hotel A  Florianopolis (SC)     1  313.02   313.02   \n",
              "5          15         0  Hotel BD          Natal (RN)     2  242.88   485.76   \n",
              "6          22         0   Hotel Z        Aracaju (SE)     2  208.04   416.08   \n",
              "7          29         0  Hotel AU         Recife (PE)     4  312.83  1251.32   \n",
              "8          32         0  Hotel AF      Sao Paulo (SP)     2  139.10   278.20   \n",
              "9          33         0   Hotel K       Salvador (BH)     4  263.41  1053.64   \n",
              "\n",
              "         date  \n",
              "0  09/26/2019  \n",
              "1  10/10/2019  \n",
              "2  11/14/2019  \n",
              "3  12/12/2019  \n",
              "4  12/26/2019  \n",
              "5  01/09/2020  \n",
              "6  02/27/2020  \n",
              "7  04/16/2020  \n",
              "8  05/07/2020  \n",
              "9  05/14/2020  "
            ],
            "text/html": [
              "\n",
              "  <div id=\"df-a08a79df-b31f-4ed9-b9cb-e44260008b4c\" class=\"colab-df-container\">\n",
              "    <div>\n",
              "<style scoped>\n",
              "    .dataframe tbody tr th:only-of-type {\n",
              "        vertical-align: middle;\n",
              "    }\n",
              "\n",
              "    .dataframe tbody tr th {\n",
              "        vertical-align: top;\n",
              "    }\n",
              "\n",
              "    .dataframe thead th {\n",
              "        text-align: right;\n",
              "    }\n",
              "</style>\n",
              "<table border=\"1\" class=\"dataframe\">\n",
              "  <thead>\n",
              "    <tr style=\"text-align: right;\">\n",
              "      <th></th>\n",
              "      <th>travelCode</th>\n",
              "      <th>userCode</th>\n",
              "      <th>name</th>\n",
              "      <th>place</th>\n",
              "      <th>days</th>\n",
              "      <th>price</th>\n",
              "      <th>total</th>\n",
              "      <th>date</th>\n",
              "    </tr>\n",
              "  </thead>\n",
              "  <tbody>\n",
              "    <tr>\n",
              "      <th>0</th>\n",
              "      <td>0</td>\n",
              "      <td>0</td>\n",
              "      <td>Hotel A</td>\n",
              "      <td>Florianopolis (SC)</td>\n",
              "      <td>4</td>\n",
              "      <td>313.02</td>\n",
              "      <td>1252.08</td>\n",
              "      <td>09/26/2019</td>\n",
              "    </tr>\n",
              "    <tr>\n",
              "      <th>1</th>\n",
              "      <td>2</td>\n",
              "      <td>0</td>\n",
              "      <td>Hotel K</td>\n",
              "      <td>Salvador (BH)</td>\n",
              "      <td>2</td>\n",
              "      <td>263.41</td>\n",
              "      <td>526.82</td>\n",
              "      <td>10/10/2019</td>\n",
              "    </tr>\n",
              "    <tr>\n",
              "      <th>2</th>\n",
              "      <td>7</td>\n",
              "      <td>0</td>\n",
              "      <td>Hotel K</td>\n",
              "      <td>Salvador (BH)</td>\n",
              "      <td>3</td>\n",
              "      <td>263.41</td>\n",
              "      <td>790.23</td>\n",
              "      <td>11/14/2019</td>\n",
              "    </tr>\n",
              "    <tr>\n",
              "      <th>3</th>\n",
              "      <td>11</td>\n",
              "      <td>0</td>\n",
              "      <td>Hotel K</td>\n",
              "      <td>Salvador (BH)</td>\n",
              "      <td>4</td>\n",
              "      <td>263.41</td>\n",
              "      <td>1053.64</td>\n",
              "      <td>12/12/2019</td>\n",
              "    </tr>\n",
              "    <tr>\n",
              "      <th>4</th>\n",
              "      <td>13</td>\n",
              "      <td>0</td>\n",
              "      <td>Hotel A</td>\n",
              "      <td>Florianopolis (SC)</td>\n",
              "      <td>1</td>\n",
              "      <td>313.02</td>\n",
              "      <td>313.02</td>\n",
              "      <td>12/26/2019</td>\n",
              "    </tr>\n",
              "    <tr>\n",
              "      <th>5</th>\n",
              "      <td>15</td>\n",
              "      <td>0</td>\n",
              "      <td>Hotel BD</td>\n",
              "      <td>Natal (RN)</td>\n",
              "      <td>2</td>\n",
              "      <td>242.88</td>\n",
              "      <td>485.76</td>\n",
              "      <td>01/09/2020</td>\n",
              "    </tr>\n",
              "    <tr>\n",
              "      <th>6</th>\n",
              "      <td>22</td>\n",
              "      <td>0</td>\n",
              "      <td>Hotel Z</td>\n",
              "      <td>Aracaju (SE)</td>\n",
              "      <td>2</td>\n",
              "      <td>208.04</td>\n",
              "      <td>416.08</td>\n",
              "      <td>02/27/2020</td>\n",
              "    </tr>\n",
              "    <tr>\n",
              "      <th>7</th>\n",
              "      <td>29</td>\n",
              "      <td>0</td>\n",
              "      <td>Hotel AU</td>\n",
              "      <td>Recife (PE)</td>\n",
              "      <td>4</td>\n",
              "      <td>312.83</td>\n",
              "      <td>1251.32</td>\n",
              "      <td>04/16/2020</td>\n",
              "    </tr>\n",
              "    <tr>\n",
              "      <th>8</th>\n",
              "      <td>32</td>\n",
              "      <td>0</td>\n",
              "      <td>Hotel AF</td>\n",
              "      <td>Sao Paulo (SP)</td>\n",
              "      <td>2</td>\n",
              "      <td>139.10</td>\n",
              "      <td>278.20</td>\n",
              "      <td>05/07/2020</td>\n",
              "    </tr>\n",
              "    <tr>\n",
              "      <th>9</th>\n",
              "      <td>33</td>\n",
              "      <td>0</td>\n",
              "      <td>Hotel K</td>\n",
              "      <td>Salvador (BH)</td>\n",
              "      <td>4</td>\n",
              "      <td>263.41</td>\n",
              "      <td>1053.64</td>\n",
              "      <td>05/14/2020</td>\n",
              "    </tr>\n",
              "  </tbody>\n",
              "</table>\n",
              "</div>\n",
              "    <div class=\"colab-df-buttons\">\n",
              "\n",
              "  <div class=\"colab-df-container\">\n",
              "    <button class=\"colab-df-convert\" onclick=\"convertToInteractive('df-a08a79df-b31f-4ed9-b9cb-e44260008b4c')\"\n",
              "            title=\"Convert this dataframe to an interactive table.\"\n",
              "            style=\"display:none;\">\n",
              "\n",
              "  <svg xmlns=\"http://www.w3.org/2000/svg\" height=\"24px\" viewBox=\"0 -960 960 960\">\n",
              "    <path d=\"M120-120v-720h720v720H120Zm60-500h600v-160H180v160Zm220 220h160v-160H400v160Zm0 220h160v-160H400v160ZM180-400h160v-160H180v160Zm440 0h160v-160H620v160ZM180-180h160v-160H180v160Zm440 0h160v-160H620v160Z\"/>\n",
              "  </svg>\n",
              "    </button>\n",
              "\n",
              "  <style>\n",
              "    .colab-df-container {\n",
              "      display:flex;\n",
              "      gap: 12px;\n",
              "    }\n",
              "\n",
              "    .colab-df-convert {\n",
              "      background-color: #E8F0FE;\n",
              "      border: none;\n",
              "      border-radius: 50%;\n",
              "      cursor: pointer;\n",
              "      display: none;\n",
              "      fill: #1967D2;\n",
              "      height: 32px;\n",
              "      padding: 0 0 0 0;\n",
              "      width: 32px;\n",
              "    }\n",
              "\n",
              "    .colab-df-convert:hover {\n",
              "      background-color: #E2EBFA;\n",
              "      box-shadow: 0px 1px 2px rgba(60, 64, 67, 0.3), 0px 1px 3px 1px rgba(60, 64, 67, 0.15);\n",
              "      fill: #174EA6;\n",
              "    }\n",
              "\n",
              "    .colab-df-buttons div {\n",
              "      margin-bottom: 4px;\n",
              "    }\n",
              "\n",
              "    [theme=dark] .colab-df-convert {\n",
              "      background-color: #3B4455;\n",
              "      fill: #D2E3FC;\n",
              "    }\n",
              "\n",
              "    [theme=dark] .colab-df-convert:hover {\n",
              "      background-color: #434B5C;\n",
              "      box-shadow: 0px 1px 3px 1px rgba(0, 0, 0, 0.15);\n",
              "      filter: drop-shadow(0px 1px 2px rgba(0, 0, 0, 0.3));\n",
              "      fill: #FFFFFF;\n",
              "    }\n",
              "  </style>\n",
              "\n",
              "    <script>\n",
              "      const buttonEl =\n",
              "        document.querySelector('#df-a08a79df-b31f-4ed9-b9cb-e44260008b4c button.colab-df-convert');\n",
              "      buttonEl.style.display =\n",
              "        google.colab.kernel.accessAllowed ? 'block' : 'none';\n",
              "\n",
              "      async function convertToInteractive(key) {\n",
              "        const element = document.querySelector('#df-a08a79df-b31f-4ed9-b9cb-e44260008b4c');\n",
              "        const dataTable =\n",
              "          await google.colab.kernel.invokeFunction('convertToInteractive',\n",
              "                                                    [key], {});\n",
              "        if (!dataTable) return;\n",
              "\n",
              "        const docLinkHtml = 'Like what you see? Visit the ' +\n",
              "          '<a target=\"_blank\" href=https://colab.research.google.com/notebooks/data_table.ipynb>data table notebook</a>'\n",
              "          + ' to learn more about interactive tables.';\n",
              "        element.innerHTML = '';\n",
              "        dataTable['output_type'] = 'display_data';\n",
              "        await google.colab.output.renderOutput(dataTable, element);\n",
              "        const docLink = document.createElement('div');\n",
              "        docLink.innerHTML = docLinkHtml;\n",
              "        element.appendChild(docLink);\n",
              "      }\n",
              "    </script>\n",
              "  </div>\n",
              "\n",
              "\n",
              "    <div id=\"df-3b51a64a-0f97-48ee-ade4-a8937a9b5da9\">\n",
              "      <button class=\"colab-df-quickchart\" onclick=\"quickchart('df-3b51a64a-0f97-48ee-ade4-a8937a9b5da9')\"\n",
              "                title=\"Suggest charts\"\n",
              "                style=\"display:none;\">\n",
              "\n",
              "<svg xmlns=\"http://www.w3.org/2000/svg\" height=\"24px\"viewBox=\"0 0 24 24\"\n",
              "     width=\"24px\">\n",
              "    <g>\n",
              "        <path d=\"M19 3H5c-1.1 0-2 .9-2 2v14c0 1.1.9 2 2 2h14c1.1 0 2-.9 2-2V5c0-1.1-.9-2-2-2zM9 17H7v-7h2v7zm4 0h-2V7h2v10zm4 0h-2v-4h2v4z\"/>\n",
              "    </g>\n",
              "</svg>\n",
              "      </button>\n",
              "\n",
              "<style>\n",
              "  .colab-df-quickchart {\n",
              "      --bg-color: #E8F0FE;\n",
              "      --fill-color: #1967D2;\n",
              "      --hover-bg-color: #E2EBFA;\n",
              "      --hover-fill-color: #174EA6;\n",
              "      --disabled-fill-color: #AAA;\n",
              "      --disabled-bg-color: #DDD;\n",
              "  }\n",
              "\n",
              "  [theme=dark] .colab-df-quickchart {\n",
              "      --bg-color: #3B4455;\n",
              "      --fill-color: #D2E3FC;\n",
              "      --hover-bg-color: #434B5C;\n",
              "      --hover-fill-color: #FFFFFF;\n",
              "      --disabled-bg-color: #3B4455;\n",
              "      --disabled-fill-color: #666;\n",
              "  }\n",
              "\n",
              "  .colab-df-quickchart {\n",
              "    background-color: var(--bg-color);\n",
              "    border: none;\n",
              "    border-radius: 50%;\n",
              "    cursor: pointer;\n",
              "    display: none;\n",
              "    fill: var(--fill-color);\n",
              "    height: 32px;\n",
              "    padding: 0;\n",
              "    width: 32px;\n",
              "  }\n",
              "\n",
              "  .colab-df-quickchart:hover {\n",
              "    background-color: var(--hover-bg-color);\n",
              "    box-shadow: 0 1px 2px rgba(60, 64, 67, 0.3), 0 1px 3px 1px rgba(60, 64, 67, 0.15);\n",
              "    fill: var(--button-hover-fill-color);\n",
              "  }\n",
              "\n",
              "  .colab-df-quickchart-complete:disabled,\n",
              "  .colab-df-quickchart-complete:disabled:hover {\n",
              "    background-color: var(--disabled-bg-color);\n",
              "    fill: var(--disabled-fill-color);\n",
              "    box-shadow: none;\n",
              "  }\n",
              "\n",
              "  .colab-df-spinner {\n",
              "    border: 2px solid var(--fill-color);\n",
              "    border-color: transparent;\n",
              "    border-bottom-color: var(--fill-color);\n",
              "    animation:\n",
              "      spin 1s steps(1) infinite;\n",
              "  }\n",
              "\n",
              "  @keyframes spin {\n",
              "    0% {\n",
              "      border-color: transparent;\n",
              "      border-bottom-color: var(--fill-color);\n",
              "      border-left-color: var(--fill-color);\n",
              "    }\n",
              "    20% {\n",
              "      border-color: transparent;\n",
              "      border-left-color: var(--fill-color);\n",
              "      border-top-color: var(--fill-color);\n",
              "    }\n",
              "    30% {\n",
              "      border-color: transparent;\n",
              "      border-left-color: var(--fill-color);\n",
              "      border-top-color: var(--fill-color);\n",
              "      border-right-color: var(--fill-color);\n",
              "    }\n",
              "    40% {\n",
              "      border-color: transparent;\n",
              "      border-right-color: var(--fill-color);\n",
              "      border-top-color: var(--fill-color);\n",
              "    }\n",
              "    60% {\n",
              "      border-color: transparent;\n",
              "      border-right-color: var(--fill-color);\n",
              "    }\n",
              "    80% {\n",
              "      border-color: transparent;\n",
              "      border-right-color: var(--fill-color);\n",
              "      border-bottom-color: var(--fill-color);\n",
              "    }\n",
              "    90% {\n",
              "      border-color: transparent;\n",
              "      border-bottom-color: var(--fill-color);\n",
              "    }\n",
              "  }\n",
              "</style>\n",
              "\n",
              "      <script>\n",
              "        async function quickchart(key) {\n",
              "          const quickchartButtonEl =\n",
              "            document.querySelector('#' + key + ' button');\n",
              "          quickchartButtonEl.disabled = true;  // To prevent multiple clicks.\n",
              "          quickchartButtonEl.classList.add('colab-df-spinner');\n",
              "          try {\n",
              "            const charts = await google.colab.kernel.invokeFunction(\n",
              "                'suggestCharts', [key], {});\n",
              "          } catch (error) {\n",
              "            console.error('Error during call to suggestCharts:', error);\n",
              "          }\n",
              "          quickchartButtonEl.classList.remove('colab-df-spinner');\n",
              "          quickchartButtonEl.classList.add('colab-df-quickchart-complete');\n",
              "        }\n",
              "        (() => {\n",
              "          let quickchartButtonEl =\n",
              "            document.querySelector('#df-3b51a64a-0f97-48ee-ade4-a8937a9b5da9 button');\n",
              "          quickchartButtonEl.style.display =\n",
              "            google.colab.kernel.accessAllowed ? 'block' : 'none';\n",
              "        })();\n",
              "      </script>\n",
              "    </div>\n",
              "\n",
              "    </div>\n",
              "  </div>\n"
            ],
            "application/vnd.google.colaboratory.intrinsic+json": {
              "type": "dataframe",
              "variable_name": "hotel",
              "summary": "{\n  \"name\": \"hotel\",\n  \"rows\": 40552,\n  \"fields\": [\n    {\n      \"column\": \"travelCode\",\n      \"properties\": {\n        \"dtype\": \"number\",\n        \"std\": 39408,\n        \"min\": 0,\n        \"max\": 135942,\n        \"num_unique_values\": 40552,\n        \"samples\": [\n          767,\n          13870,\n          129190\n        ],\n        \"semantic_type\": \"\",\n        \"description\": \"\"\n      }\n    },\n    {\n      \"column\": \"userCode\",\n      \"properties\": {\n        \"dtype\": \"number\",\n        \"std\": 391,\n        \"min\": 0,\n        \"max\": 1339,\n        \"num_unique_values\": 1310,\n        \"samples\": [\n          716,\n          1018,\n          355\n        ],\n        \"semantic_type\": \"\",\n        \"description\": \"\"\n      }\n    },\n    {\n      \"column\": \"name\",\n      \"properties\": {\n        \"dtype\": \"category\",\n        \"num_unique_values\": 9,\n        \"samples\": [\n          \"Hotel CB\",\n          \"Hotel K\",\n          \"Hotel AF\"\n        ],\n        \"semantic_type\": \"\",\n        \"description\": \"\"\n      }\n    },\n    {\n      \"column\": \"place\",\n      \"properties\": {\n        \"dtype\": \"category\",\n        \"num_unique_values\": 9,\n        \"samples\": [\n          \"Rio de Janeiro (RJ)\",\n          \"Salvador (BH)\",\n          \"Sao Paulo (SP)\"\n        ],\n        \"semantic_type\": \"\",\n        \"description\": \"\"\n      }\n    },\n    {\n      \"column\": \"days\",\n      \"properties\": {\n        \"dtype\": \"number\",\n        \"std\": 1,\n        \"min\": 1,\n        \"max\": 4,\n        \"num_unique_values\": 4,\n        \"samples\": [\n          2,\n          1,\n          4\n        ],\n        \"semantic_type\": \"\",\n        \"description\": \"\"\n      }\n    },\n    {\n      \"column\": \"price\",\n      \"properties\": {\n        \"dtype\": \"number\",\n        \"std\": 76.74230506862392,\n        \"min\": 60.39,\n        \"max\": 313.02,\n        \"num_unique_values\": 9,\n        \"samples\": [\n          165.99,\n          263.41,\n          139.1\n        ],\n        \"semantic_type\": \"\",\n        \"description\": \"\"\n      }\n    },\n    {\n      \"column\": \"total\",\n      \"properties\": {\n        \"dtype\": \"number\",\n        \"std\": 319.3314823854872,\n        \"min\": 60.39,\n        \"max\": 1252.08,\n        \"num_unique_values\": 36,\n        \"samples\": [\n          208.04,\n          120.78,\n          625.66\n        ],\n        \"semantic_type\": \"\",\n        \"description\": \"\"\n      }\n    },\n    {\n      \"column\": \"date\",\n      \"properties\": {\n        \"dtype\": \"object\",\n        \"num_unique_values\": 199,\n        \"samples\": [\n          \"10/13/2022\",\n          \"08/06/2020\",\n          \"02/03/2022\"\n        ],\n        \"semantic_type\": \"\",\n        \"description\": \"\"\n      }\n    }\n  ]\n}"
            }
          },
          "metadata": {},
          "execution_count": 45
        }
      ]
    },
    {
      "cell_type": "code",
      "source": [
        "hotel.shape"
      ],
      "metadata": {
        "colab": {
          "base_uri": "https://localhost:8080/"
        },
        "id": "NsHitEkDNks8",
        "outputId": "55e9c1ee-f15a-4694-e03f-258559af0f95"
      },
      "execution_count": 46,
      "outputs": [
        {
          "output_type": "execute_result",
          "data": {
            "text/plain": [
              "(40552, 8)"
            ]
          },
          "metadata": {},
          "execution_count": 46
        }
      ]
    },
    {
      "cell_type": "code",
      "source": [
        "hotel.describe()"
      ],
      "metadata": {
        "colab": {
          "base_uri": "https://localhost:8080/",
          "height": 300
        },
        "id": "Gh6EmGCoNpqE",
        "outputId": "72d7990d-1bac-45f4-95bb-83211a6eb8b7"
      },
      "execution_count": 47,
      "outputs": [
        {
          "output_type": "execute_result",
          "data": {
            "text/plain": [
              "          travelCode      userCode          days         price         total\n",
              "count   40552.000000  40552.000000  40552.000000  40552.000000  40552.000000\n",
              "mean    67911.794461    666.963726      2.499679    214.439554    536.229513\n",
              "std     39408.199333    391.136794      1.119326     76.742305    319.331482\n",
              "min         0.000000      0.000000      1.000000     60.390000     60.390000\n",
              "25%     33696.750000    323.000000      1.000000    165.990000    247.620000\n",
              "50%     67831.000000    658.000000      2.000000    242.880000    495.240000\n",
              "75%    102211.250000   1013.000000      4.000000    263.410000    742.860000\n",
              "max    135942.000000   1339.000000      4.000000    313.020000   1252.080000"
            ],
            "text/html": [
              "\n",
              "  <div id=\"df-4c395595-b707-49de-962b-04b6e423a840\" class=\"colab-df-container\">\n",
              "    <div>\n",
              "<style scoped>\n",
              "    .dataframe tbody tr th:only-of-type {\n",
              "        vertical-align: middle;\n",
              "    }\n",
              "\n",
              "    .dataframe tbody tr th {\n",
              "        vertical-align: top;\n",
              "    }\n",
              "\n",
              "    .dataframe thead th {\n",
              "        text-align: right;\n",
              "    }\n",
              "</style>\n",
              "<table border=\"1\" class=\"dataframe\">\n",
              "  <thead>\n",
              "    <tr style=\"text-align: right;\">\n",
              "      <th></th>\n",
              "      <th>travelCode</th>\n",
              "      <th>userCode</th>\n",
              "      <th>days</th>\n",
              "      <th>price</th>\n",
              "      <th>total</th>\n",
              "    </tr>\n",
              "  </thead>\n",
              "  <tbody>\n",
              "    <tr>\n",
              "      <th>count</th>\n",
              "      <td>40552.000000</td>\n",
              "      <td>40552.000000</td>\n",
              "      <td>40552.000000</td>\n",
              "      <td>40552.000000</td>\n",
              "      <td>40552.000000</td>\n",
              "    </tr>\n",
              "    <tr>\n",
              "      <th>mean</th>\n",
              "      <td>67911.794461</td>\n",
              "      <td>666.963726</td>\n",
              "      <td>2.499679</td>\n",
              "      <td>214.439554</td>\n",
              "      <td>536.229513</td>\n",
              "    </tr>\n",
              "    <tr>\n",
              "      <th>std</th>\n",
              "      <td>39408.199333</td>\n",
              "      <td>391.136794</td>\n",
              "      <td>1.119326</td>\n",
              "      <td>76.742305</td>\n",
              "      <td>319.331482</td>\n",
              "    </tr>\n",
              "    <tr>\n",
              "      <th>min</th>\n",
              "      <td>0.000000</td>\n",
              "      <td>0.000000</td>\n",
              "      <td>1.000000</td>\n",
              "      <td>60.390000</td>\n",
              "      <td>60.390000</td>\n",
              "    </tr>\n",
              "    <tr>\n",
              "      <th>25%</th>\n",
              "      <td>33696.750000</td>\n",
              "      <td>323.000000</td>\n",
              "      <td>1.000000</td>\n",
              "      <td>165.990000</td>\n",
              "      <td>247.620000</td>\n",
              "    </tr>\n",
              "    <tr>\n",
              "      <th>50%</th>\n",
              "      <td>67831.000000</td>\n",
              "      <td>658.000000</td>\n",
              "      <td>2.000000</td>\n",
              "      <td>242.880000</td>\n",
              "      <td>495.240000</td>\n",
              "    </tr>\n",
              "    <tr>\n",
              "      <th>75%</th>\n",
              "      <td>102211.250000</td>\n",
              "      <td>1013.000000</td>\n",
              "      <td>4.000000</td>\n",
              "      <td>263.410000</td>\n",
              "      <td>742.860000</td>\n",
              "    </tr>\n",
              "    <tr>\n",
              "      <th>max</th>\n",
              "      <td>135942.000000</td>\n",
              "      <td>1339.000000</td>\n",
              "      <td>4.000000</td>\n",
              "      <td>313.020000</td>\n",
              "      <td>1252.080000</td>\n",
              "    </tr>\n",
              "  </tbody>\n",
              "</table>\n",
              "</div>\n",
              "    <div class=\"colab-df-buttons\">\n",
              "\n",
              "  <div class=\"colab-df-container\">\n",
              "    <button class=\"colab-df-convert\" onclick=\"convertToInteractive('df-4c395595-b707-49de-962b-04b6e423a840')\"\n",
              "            title=\"Convert this dataframe to an interactive table.\"\n",
              "            style=\"display:none;\">\n",
              "\n",
              "  <svg xmlns=\"http://www.w3.org/2000/svg\" height=\"24px\" viewBox=\"0 -960 960 960\">\n",
              "    <path d=\"M120-120v-720h720v720H120Zm60-500h600v-160H180v160Zm220 220h160v-160H400v160Zm0 220h160v-160H400v160ZM180-400h160v-160H180v160Zm440 0h160v-160H620v160ZM180-180h160v-160H180v160Zm440 0h160v-160H620v160Z\"/>\n",
              "  </svg>\n",
              "    </button>\n",
              "\n",
              "  <style>\n",
              "    .colab-df-container {\n",
              "      display:flex;\n",
              "      gap: 12px;\n",
              "    }\n",
              "\n",
              "    .colab-df-convert {\n",
              "      background-color: #E8F0FE;\n",
              "      border: none;\n",
              "      border-radius: 50%;\n",
              "      cursor: pointer;\n",
              "      display: none;\n",
              "      fill: #1967D2;\n",
              "      height: 32px;\n",
              "      padding: 0 0 0 0;\n",
              "      width: 32px;\n",
              "    }\n",
              "\n",
              "    .colab-df-convert:hover {\n",
              "      background-color: #E2EBFA;\n",
              "      box-shadow: 0px 1px 2px rgba(60, 64, 67, 0.3), 0px 1px 3px 1px rgba(60, 64, 67, 0.15);\n",
              "      fill: #174EA6;\n",
              "    }\n",
              "\n",
              "    .colab-df-buttons div {\n",
              "      margin-bottom: 4px;\n",
              "    }\n",
              "\n",
              "    [theme=dark] .colab-df-convert {\n",
              "      background-color: #3B4455;\n",
              "      fill: #D2E3FC;\n",
              "    }\n",
              "\n",
              "    [theme=dark] .colab-df-convert:hover {\n",
              "      background-color: #434B5C;\n",
              "      box-shadow: 0px 1px 3px 1px rgba(0, 0, 0, 0.15);\n",
              "      filter: drop-shadow(0px 1px 2px rgba(0, 0, 0, 0.3));\n",
              "      fill: #FFFFFF;\n",
              "    }\n",
              "  </style>\n",
              "\n",
              "    <script>\n",
              "      const buttonEl =\n",
              "        document.querySelector('#df-4c395595-b707-49de-962b-04b6e423a840 button.colab-df-convert');\n",
              "      buttonEl.style.display =\n",
              "        google.colab.kernel.accessAllowed ? 'block' : 'none';\n",
              "\n",
              "      async function convertToInteractive(key) {\n",
              "        const element = document.querySelector('#df-4c395595-b707-49de-962b-04b6e423a840');\n",
              "        const dataTable =\n",
              "          await google.colab.kernel.invokeFunction('convertToInteractive',\n",
              "                                                    [key], {});\n",
              "        if (!dataTable) return;\n",
              "\n",
              "        const docLinkHtml = 'Like what you see? Visit the ' +\n",
              "          '<a target=\"_blank\" href=https://colab.research.google.com/notebooks/data_table.ipynb>data table notebook</a>'\n",
              "          + ' to learn more about interactive tables.';\n",
              "        element.innerHTML = '';\n",
              "        dataTable['output_type'] = 'display_data';\n",
              "        await google.colab.output.renderOutput(dataTable, element);\n",
              "        const docLink = document.createElement('div');\n",
              "        docLink.innerHTML = docLinkHtml;\n",
              "        element.appendChild(docLink);\n",
              "      }\n",
              "    </script>\n",
              "  </div>\n",
              "\n",
              "\n",
              "    <div id=\"df-a79099f5-997a-44dd-822c-23f4190b9bfa\">\n",
              "      <button class=\"colab-df-quickchart\" onclick=\"quickchart('df-a79099f5-997a-44dd-822c-23f4190b9bfa')\"\n",
              "                title=\"Suggest charts\"\n",
              "                style=\"display:none;\">\n",
              "\n",
              "<svg xmlns=\"http://www.w3.org/2000/svg\" height=\"24px\"viewBox=\"0 0 24 24\"\n",
              "     width=\"24px\">\n",
              "    <g>\n",
              "        <path d=\"M19 3H5c-1.1 0-2 .9-2 2v14c0 1.1.9 2 2 2h14c1.1 0 2-.9 2-2V5c0-1.1-.9-2-2-2zM9 17H7v-7h2v7zm4 0h-2V7h2v10zm4 0h-2v-4h2v4z\"/>\n",
              "    </g>\n",
              "</svg>\n",
              "      </button>\n",
              "\n",
              "<style>\n",
              "  .colab-df-quickchart {\n",
              "      --bg-color: #E8F0FE;\n",
              "      --fill-color: #1967D2;\n",
              "      --hover-bg-color: #E2EBFA;\n",
              "      --hover-fill-color: #174EA6;\n",
              "      --disabled-fill-color: #AAA;\n",
              "      --disabled-bg-color: #DDD;\n",
              "  }\n",
              "\n",
              "  [theme=dark] .colab-df-quickchart {\n",
              "      --bg-color: #3B4455;\n",
              "      --fill-color: #D2E3FC;\n",
              "      --hover-bg-color: #434B5C;\n",
              "      --hover-fill-color: #FFFFFF;\n",
              "      --disabled-bg-color: #3B4455;\n",
              "      --disabled-fill-color: #666;\n",
              "  }\n",
              "\n",
              "  .colab-df-quickchart {\n",
              "    background-color: var(--bg-color);\n",
              "    border: none;\n",
              "    border-radius: 50%;\n",
              "    cursor: pointer;\n",
              "    display: none;\n",
              "    fill: var(--fill-color);\n",
              "    height: 32px;\n",
              "    padding: 0;\n",
              "    width: 32px;\n",
              "  }\n",
              "\n",
              "  .colab-df-quickchart:hover {\n",
              "    background-color: var(--hover-bg-color);\n",
              "    box-shadow: 0 1px 2px rgba(60, 64, 67, 0.3), 0 1px 3px 1px rgba(60, 64, 67, 0.15);\n",
              "    fill: var(--button-hover-fill-color);\n",
              "  }\n",
              "\n",
              "  .colab-df-quickchart-complete:disabled,\n",
              "  .colab-df-quickchart-complete:disabled:hover {\n",
              "    background-color: var(--disabled-bg-color);\n",
              "    fill: var(--disabled-fill-color);\n",
              "    box-shadow: none;\n",
              "  }\n",
              "\n",
              "  .colab-df-spinner {\n",
              "    border: 2px solid var(--fill-color);\n",
              "    border-color: transparent;\n",
              "    border-bottom-color: var(--fill-color);\n",
              "    animation:\n",
              "      spin 1s steps(1) infinite;\n",
              "  }\n",
              "\n",
              "  @keyframes spin {\n",
              "    0% {\n",
              "      border-color: transparent;\n",
              "      border-bottom-color: var(--fill-color);\n",
              "      border-left-color: var(--fill-color);\n",
              "    }\n",
              "    20% {\n",
              "      border-color: transparent;\n",
              "      border-left-color: var(--fill-color);\n",
              "      border-top-color: var(--fill-color);\n",
              "    }\n",
              "    30% {\n",
              "      border-color: transparent;\n",
              "      border-left-color: var(--fill-color);\n",
              "      border-top-color: var(--fill-color);\n",
              "      border-right-color: var(--fill-color);\n",
              "    }\n",
              "    40% {\n",
              "      border-color: transparent;\n",
              "      border-right-color: var(--fill-color);\n",
              "      border-top-color: var(--fill-color);\n",
              "    }\n",
              "    60% {\n",
              "      border-color: transparent;\n",
              "      border-right-color: var(--fill-color);\n",
              "    }\n",
              "    80% {\n",
              "      border-color: transparent;\n",
              "      border-right-color: var(--fill-color);\n",
              "      border-bottom-color: var(--fill-color);\n",
              "    }\n",
              "    90% {\n",
              "      border-color: transparent;\n",
              "      border-bottom-color: var(--fill-color);\n",
              "    }\n",
              "  }\n",
              "</style>\n",
              "\n",
              "      <script>\n",
              "        async function quickchart(key) {\n",
              "          const quickchartButtonEl =\n",
              "            document.querySelector('#' + key + ' button');\n",
              "          quickchartButtonEl.disabled = true;  // To prevent multiple clicks.\n",
              "          quickchartButtonEl.classList.add('colab-df-spinner');\n",
              "          try {\n",
              "            const charts = await google.colab.kernel.invokeFunction(\n",
              "                'suggestCharts', [key], {});\n",
              "          } catch (error) {\n",
              "            console.error('Error during call to suggestCharts:', error);\n",
              "          }\n",
              "          quickchartButtonEl.classList.remove('colab-df-spinner');\n",
              "          quickchartButtonEl.classList.add('colab-df-quickchart-complete');\n",
              "        }\n",
              "        (() => {\n",
              "          let quickchartButtonEl =\n",
              "            document.querySelector('#df-a79099f5-997a-44dd-822c-23f4190b9bfa button');\n",
              "          quickchartButtonEl.style.display =\n",
              "            google.colab.kernel.accessAllowed ? 'block' : 'none';\n",
              "        })();\n",
              "      </script>\n",
              "    </div>\n",
              "\n",
              "    </div>\n",
              "  </div>\n"
            ],
            "application/vnd.google.colaboratory.intrinsic+json": {
              "type": "dataframe",
              "summary": "{\n  \"name\": \"hotel\",\n  \"rows\": 8,\n  \"fields\": [\n    {\n      \"column\": \"travelCode\",\n      \"properties\": {\n        \"dtype\": \"number\",\n        \"std\": 42694.721985622076,\n        \"min\": 0.0,\n        \"max\": 135942.0,\n        \"num_unique_values\": 8,\n        \"samples\": [\n          67911.79446143223,\n          67831.0,\n          40552.0\n        ],\n        \"semantic_type\": \"\",\n        \"description\": \"\"\n      }\n    },\n    {\n      \"column\": \"userCode\",\n      \"properties\": {\n        \"dtype\": \"number\",\n        \"std\": 14121.58241871483,\n        \"min\": 0.0,\n        \"max\": 40552.0,\n        \"num_unique_values\": 8,\n        \"samples\": [\n          666.9637255869008,\n          658.0,\n          40552.0\n        ],\n        \"semantic_type\": \"\",\n        \"description\": \"\"\n      }\n    },\n    {\n      \"column\": \"days\",\n      \"properties\": {\n        \"dtype\": \"number\",\n        \"std\": 14336.508269486127,\n        \"min\": 1.0,\n        \"max\": 40552.0,\n        \"num_unique_values\": 6,\n        \"samples\": [\n          40552.0,\n          2.499679423949497,\n          4.0\n        ],\n        \"semantic_type\": \"\",\n        \"description\": \"\"\n      }\n    },\n    {\n      \"column\": \"price\",\n      \"properties\": {\n        \"dtype\": \"number\",\n        \"std\": 14270.045731113862,\n        \"min\": 60.39,\n        \"max\": 40552.0,\n        \"num_unique_values\": 8,\n        \"samples\": [\n          214.43955390609585,\n          242.88,\n          40552.0\n        ],\n        \"semantic_type\": \"\",\n        \"description\": \"\"\n      }\n    },\n    {\n      \"column\": \"total\",\n      \"properties\": {\n        \"dtype\": \"number\",\n        \"std\": 14157.35768644393,\n        \"min\": 60.39,\n        \"max\": 40552.0,\n        \"num_unique_values\": 8,\n        \"samples\": [\n          536.2295129710002,\n          495.24,\n          40552.0\n        ],\n        \"semantic_type\": \"\",\n        \"description\": \"\"\n      }\n    }\n  ]\n}"
            }
          },
          "metadata": {},
          "execution_count": 47
        }
      ]
    },
    {
      "cell_type": "code",
      "source": [
        "hotel.info()"
      ],
      "metadata": {
        "colab": {
          "base_uri": "https://localhost:8080/"
        },
        "id": "n2W6k0QTNruG",
        "outputId": "71a45350-c515-4f11-adc4-0ee95d93267a"
      },
      "execution_count": 48,
      "outputs": [
        {
          "output_type": "stream",
          "name": "stdout",
          "text": [
            "<class 'pandas.core.frame.DataFrame'>\n",
            "RangeIndex: 40552 entries, 0 to 40551\n",
            "Data columns (total 8 columns):\n",
            " #   Column      Non-Null Count  Dtype  \n",
            "---  ------      --------------  -----  \n",
            " 0   travelCode  40552 non-null  int64  \n",
            " 1   userCode    40552 non-null  int64  \n",
            " 2   name        40552 non-null  object \n",
            " 3   place       40552 non-null  object \n",
            " 4   days        40552 non-null  int64  \n",
            " 5   price       40552 non-null  float64\n",
            " 6   total       40552 non-null  float64\n",
            " 7   date        40552 non-null  object \n",
            "dtypes: float64(2), int64(3), object(3)\n",
            "memory usage: 2.5+ MB\n"
          ]
        }
      ]
    },
    {
      "cell_type": "code",
      "source": [
        "hotel.isnull().sum()"
      ],
      "metadata": {
        "colab": {
          "base_uri": "https://localhost:8080/",
          "height": 335
        },
        "id": "q_IuhGagNtXt",
        "outputId": "f00be2b4-b919-4e3f-d97e-a1f08054750a"
      },
      "execution_count": 49,
      "outputs": [
        {
          "output_type": "execute_result",
          "data": {
            "text/plain": [
              "travelCode    0\n",
              "userCode      0\n",
              "name          0\n",
              "place         0\n",
              "days          0\n",
              "price         0\n",
              "total         0\n",
              "date          0\n",
              "dtype: int64"
            ],
            "text/html": [
              "<div>\n",
              "<style scoped>\n",
              "    .dataframe tbody tr th:only-of-type {\n",
              "        vertical-align: middle;\n",
              "    }\n",
              "\n",
              "    .dataframe tbody tr th {\n",
              "        vertical-align: top;\n",
              "    }\n",
              "\n",
              "    .dataframe thead th {\n",
              "        text-align: right;\n",
              "    }\n",
              "</style>\n",
              "<table border=\"1\" class=\"dataframe\">\n",
              "  <thead>\n",
              "    <tr style=\"text-align: right;\">\n",
              "      <th></th>\n",
              "      <th>0</th>\n",
              "    </tr>\n",
              "  </thead>\n",
              "  <tbody>\n",
              "    <tr>\n",
              "      <th>travelCode</th>\n",
              "      <td>0</td>\n",
              "    </tr>\n",
              "    <tr>\n",
              "      <th>userCode</th>\n",
              "      <td>0</td>\n",
              "    </tr>\n",
              "    <tr>\n",
              "      <th>name</th>\n",
              "      <td>0</td>\n",
              "    </tr>\n",
              "    <tr>\n",
              "      <th>place</th>\n",
              "      <td>0</td>\n",
              "    </tr>\n",
              "    <tr>\n",
              "      <th>days</th>\n",
              "      <td>0</td>\n",
              "    </tr>\n",
              "    <tr>\n",
              "      <th>price</th>\n",
              "      <td>0</td>\n",
              "    </tr>\n",
              "    <tr>\n",
              "      <th>total</th>\n",
              "      <td>0</td>\n",
              "    </tr>\n",
              "    <tr>\n",
              "      <th>date</th>\n",
              "      <td>0</td>\n",
              "    </tr>\n",
              "  </tbody>\n",
              "</table>\n",
              "</div><br><label><b>dtype:</b> int64</label>"
            ]
          },
          "metadata": {},
          "execution_count": 49
        }
      ]
    },
    {
      "cell_type": "code",
      "source": [
        "# Handling date format inconsistencies\n",
        "hotel['date'] = pd.to_datetime(hotel['date'], errors='coerce')"
      ],
      "metadata": {
        "id": "NE2bRWSKN1ES"
      },
      "execution_count": 50,
      "outputs": []
    },
    {
      "cell_type": "code",
      "source": [
        "# Encode categorical columns\n",
        "label_encoder_name = LabelEncoder()\n",
        "hotel['name'] = label_encoder_name.fit_transform(hotel['name'])\n",
        "\n",
        "label_encoder_place = LabelEncoder()\n",
        "hotel['place'] = label_encoder_place.fit_transform(hotel['place'])"
      ],
      "metadata": {
        "id": "WoxJT52LN6H2"
      },
      "execution_count": 51,
      "outputs": []
    },
    {
      "cell_type": "code",
      "source": [
        "# Selecting features and target variable\n",
        "X = hotel[['travelCode', 'userCode', 'days', 'price', 'total']]\n",
        "y_name = hotel['name']\n",
        "y_place = hotel['place']\n",
        "y_price = hotel['price']\n",
        "\n",
        "# Train-test split\n",
        "X_train, X_test, y_name_train, y_name_test = train_test_split(X, y_name, test_size=0.2, random_state=42)\n",
        "_, _, y_place_train, y_place_test = train_test_split(X, y_place, test_size=0.2, random_state=42)\n",
        "_, _, y_price_train, y_price_test = train_test_split(X, y_price, test_size=0.2, random_state=42)"
      ],
      "metadata": {
        "id": "Sxr3xOMcN8bI"
      },
      "execution_count": 52,
      "outputs": []
    },
    {
      "cell_type": "code",
      "source": [
        "# Train models\n",
        "model_name = RandomForestClassifier()\n",
        "model_name.fit(X_train, y_name_train)\n",
        "\n",
        "model_place = RandomForestClassifier()\n",
        "model_place.fit(X_train, y_place_train)\n",
        "\n",
        "model_price = RandomForestRegressor()\n",
        "model_price.fit(X_train, y_price_train)\n",
        "\n",
        "# Predictions\n",
        "y_name_pred = model_name.predict(X_test)\n",
        "y_place_pred = model_place.predict(X_test)\n",
        "y_price_pred = model_price.predict(X_test)\n",
        "\n",
        "# Evaluation\n",
        "print(\"Hotel Name Prediction Report:\\n\", classification_report(y_name_test, y_name_pred))\n",
        "print(\"Hotel Place Prediction Report:\\n\", classification_report(y_place_test, y_place_pred))\n",
        "print(\"Hotel Price Prediction MSE:\\n\", mean_squared_error(y_price_test, y_price_pred))"
      ],
      "metadata": {
        "colab": {
          "base_uri": "https://localhost:8080/"
        },
        "id": "1IUIlJPlN_zq",
        "outputId": "9fb5aa6c-84fe-4631-9c21-caccb970aba9"
      },
      "execution_count": 53,
      "outputs": [
        {
          "output_type": "stream",
          "name": "stdout",
          "text": [
            "Hotel Name Prediction Report:\n",
            "               precision    recall  f1-score   support\n",
            "\n",
            "           0       1.00      1.00      1.00       655\n",
            "           1       1.00      1.00      1.00      1006\n",
            "           2       1.00      1.00      1.00       894\n",
            "           3       1.00      1.00      1.00       969\n",
            "           4       1.00      1.00      1.00       841\n",
            "           5       1.00      1.00      1.00       896\n",
            "           6       1.00      1.00      1.00       997\n",
            "           7       1.00      1.00      1.00      1025\n",
            "           8       1.00      1.00      1.00       828\n",
            "\n",
            "    accuracy                           1.00      8111\n",
            "   macro avg       1.00      1.00      1.00      8111\n",
            "weighted avg       1.00      1.00      1.00      8111\n",
            "\n",
            "Hotel Place Prediction Report:\n",
            "               precision    recall  f1-score   support\n",
            "\n",
            "           0       1.00      1.00      1.00       828\n",
            "           1       1.00      1.00      1.00       841\n",
            "           2       1.00      1.00      1.00       896\n",
            "           3       1.00      1.00      1.00       655\n",
            "           4       1.00      1.00      1.00       969\n",
            "           5       1.00      1.00      1.00       894\n",
            "           6       1.00      1.00      1.00       997\n",
            "           7       1.00      1.00      1.00      1025\n",
            "           8       1.00      1.00      1.00      1006\n",
            "\n",
            "    accuracy                           1.00      8111\n",
            "   macro avg       1.00      1.00      1.00      8111\n",
            "weighted avg       1.00      1.00      1.00      8111\n",
            "\n",
            "Hotel Price Prediction MSE:\n",
            " 1.453609027149927e-23\n"
          ]
        }
      ]
    },
    {
      "cell_type": "code",
      "source": [
        "# Prediction function\n",
        "def predict_hotel(travelCode, userCode, days, price, total):\n",
        "    sample_data = pd.DataFrame({\n",
        "        'travelCode': [travelCode],\n",
        "        'userCode': [userCode],\n",
        "        'days': [days],\n",
        "        'price': [price],\n",
        "        'total': [total]\n",
        "    })\n",
        "\n",
        "    predicted_name = model_name.predict(sample_data)\n",
        "    predicted_place = model_place.predict(sample_data)\n",
        "    predicted_price = model_price.predict(sample_data)\n",
        "\n",
        "    return {\n",
        "        'name': label_encoder_name.inverse_transform(predicted_name)[0],\n",
        "        'place': label_encoder_place.inverse_transform(predicted_place)[0],\n",
        "        'price': round(float(predicted_price[0]), 2)\n",
        "    }\n",
        "\n",
        "# Example Prediction\n",
        "print(predict_hotel(0, 0, 4, 313.02, 1252.08))"
      ],
      "metadata": {
        "colab": {
          "base_uri": "https://localhost:8080/"
        },
        "id": "hAHMnBVcSEhD",
        "outputId": "b8b6d7be-95c4-42c6-94e2-a30bf73e7ee2"
      },
      "execution_count": 54,
      "outputs": [
        {
          "output_type": "stream",
          "name": "stdout",
          "text": [
            "{'name': 'Hotel A', 'place': 'Florianopolis (SC)', 'price': 313.02}\n"
          ]
        }
      ]
    },
    {
      "cell_type": "code",
      "source": [
        "import pandas as pd\n",
        "from sklearn.model_selection import train_test_split\n",
        "from sklearn.preprocessing import LabelEncoder\n",
        "from sklearn.ensemble import RandomForestClassifier, RandomForestRegressor\n",
        "import joblib\n",
        "from sklearn.preprocessing import LabelEncoder"
      ],
      "metadata": {
        "id": "wtt_uRtFS7jB"
      },
      "execution_count": 56,
      "outputs": []
    },
    {
      "cell_type": "code",
      "source": [
        "# Save models and encoders\n",
        "joblib.dump(model_name, 'model_name.joblib')\n",
        "joblib.dump(model_place, 'model_place.joblib')\n",
        "joblib.dump(model_price, 'model_price.joblib')\n",
        "joblib.dump(label_encoder_name, 'label_encoder_name.joblib')\n",
        "joblib.dump(label_encoder_place, 'label_encoder_place.joblib')"
      ],
      "metadata": {
        "colab": {
          "base_uri": "https://localhost:8080/"
        },
        "id": "yZ2q212ASgZR",
        "outputId": "c6c304bc-cb62-434c-88ec-cbc9e2684df8"
      },
      "execution_count": 57,
      "outputs": [
        {
          "output_type": "execute_result",
          "data": {
            "text/plain": [
              "['label_encoder_place.joblib']"
            ]
          },
          "metadata": {},
          "execution_count": 57
        }
      ]
    },
    {
      "cell_type": "markdown",
      "source": [
        "# **Streamlit App -**"
      ],
      "metadata": {
        "id": "RWUKh9zqTOEU"
      }
    },
    {
      "cell_type": "code",
      "source": [],
      "metadata": {
        "id": "EASujMtRSxb2"
      },
      "execution_count": null,
      "outputs": []
    }
  ]
}